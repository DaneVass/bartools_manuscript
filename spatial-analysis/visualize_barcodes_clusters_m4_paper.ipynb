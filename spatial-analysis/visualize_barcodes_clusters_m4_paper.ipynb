{
 "cells": [
  {
   "cell_type": "markdown",
   "id": "fda22a61-5344-481d-b80a-cd1eac393c82",
   "metadata": {},
   "source": [
    "# Visualizations spatial data for BARtab/bartools paper"
   ]
  },
  {
   "cell_type": "markdown",
   "id": "a8f762df-5427-4d69-91c7-4c5943141836",
   "metadata": {},
   "source": [
    "Upstream scripts: `data_preprocessing_m4_paper.py`\n",
    "\n",
    "1. Visualize location of clones in tissue section\n",
    "\n",
    "2. Visualize leiden clusters and marker gene expression"
   ]
  },
  {
   "cell_type": "code",
   "execution_count": null,
   "id": "96293720-2cdf-4570-ba0e-88733a354552",
   "metadata": {
    "tags": []
   },
   "outputs": [],
   "source": [
    "import stereo as st\n",
    "import scanpy as sc\n",
    "import utils_stereoseq as us\n",
    "import pandas as pd\n",
    "import seaborn as sns\n",
    "import matplotlib.pyplot as plt\n",
    "import numpy as np\n",
    "import squidpy as sq"
   ]
  },
  {
   "cell_type": "markdown",
   "id": "aa68dbea-6739-4c17-b1e0-ff9567b69d44",
   "metadata": {},
   "source": [
    "Reading in processed stereo-seq data at bin 50 with barcode information."
   ]
  },
  {
   "cell_type": "code",
   "execution_count": null,
   "id": "d8942e36-fe68-4692-88dc-d05cec9dfd13",
   "metadata": {
    "tags": []
   },
   "outputs": [],
   "source": [
    "adata = sc.read(filename=f\"/dawson_genomics/Projects/BGI_spatial/plots_paper/input_data/mouse4_bin50_bc.h5ad\")"
   ]
  },
  {
   "cell_type": "code",
   "execution_count": null,
   "id": "02ac443e-daed-469b-a360-72e74e6183ac",
   "metadata": {
    "tags": []
   },
   "outputs": [],
   "source": [
    "adata"
   ]
  },
  {
   "cell_type": "markdown",
   "id": "cdf4edf7-e14d-4bce-aacd-91571e89b36b",
   "metadata": {},
   "source": [
    "Count What percentage of spots have barcode annotation. "
   ]
  },
  {
   "cell_type": "code",
   "execution_count": null,
   "id": "6f95510b-2f16-4d11-9979-a0b985a1ac71",
   "metadata": {
    "tags": []
   },
   "outputs": [],
   "source": [
    "1 - adata.obs.barcode.isna().sum() / adata.shape[0], 1 - (adata.obs.barcode == \"nan\").sum() / adata.shape[0]"
   ]
  },
  {
   "cell_type": "markdown",
   "id": "b81baaec-b8b1-4da1-adb9-c038c4301ec6",
   "metadata": {},
   "source": [
    "Get top 10 barcodes by number of bins detected."
   ]
  },
  {
   "cell_type": "code",
   "execution_count": null,
   "id": "9c99afb9-3f60-4c0a-b03f-6a1e24e46adf",
   "metadata": {
    "tags": []
   },
   "outputs": [],
   "source": [
    "# exclude nan which will always be most frequent\n",
    "top10_barcodes = adata.obs[\"barcode\"][adata.obs[\"barcode\"] != \"nan\"].value_counts().head(10).index.values"
   ]
  },
  {
   "cell_type": "markdown",
   "id": "69114b11-a4f3-4ce7-b03c-8d0c19ba23d4",
   "metadata": {},
   "source": [
    "Plot location of 10 most frequent barcodes."
   ]
  },
  {
   "cell_type": "markdown",
   "id": "da411fb5-c11e-479c-ade4-4cc68aaba2f4",
   "metadata": {},
   "source": [
    "Plot vector friendly"
   ]
  },
  {
   "cell_type": "code",
   "execution_count": null,
   "id": "d9d05161-f625-46c2-9cef-c68f42b4db70",
   "metadata": {
    "tags": []
   },
   "outputs": [],
   "source": [
    "sc.set_figure_params(vector_friendly = True, transparent=True, dpi_save=300)\n",
    "us.plot_barcode_grid(\n",
    "    adata,\n",
    "    top10_barcodes,\n",
    "    # width, height\n",
    "    (10, 5),\n",
    "    5,\n",
    "    invert=True\n",
    ")\n",
    "plt.savefig(\"/dawson_genomics/Projects/BGI_spatial/plots_paper/10_most_frequent_barcodes_facet_m4_vector_friendly.pdf\", transparent=True, bbox_inches='tight')"
   ]
  },
  {
   "cell_type": "code",
   "execution_count": null,
   "id": "280fd9c3-01af-4075-b02d-ac2ce4f31e46",
   "metadata": {
    "tags": []
   },
   "outputs": [],
   "source": [
    "cmap = sns.color_palette(\"tab10\", as_cmap=True)\n",
    "\n",
    "figsize = (7, 7)\n",
    "fig, ax = plt.subplots(figsize=figsize)\n",
    "adata_top10_clones = adata[adata.obs[\"barcode\"].isin(top10_barcodes), :]\n",
    "\n",
    "sns.scatterplot(x=adata.obs[\"x\"], y=adata.obs[\"y\"], linewidth=0, marker=\"s\", sizes=(3.3, 3.3), ax=ax, color=(0.9, 0.9, 0.9, 1), size=adata.obs[\"cell_id\"], legend=False)\n",
    "sns.scatterplot(x=adata_top10_clones.obs[\"x\"], y=adata_top10_clones.obs[\"y\"], hue=adata_top10_clones.obs[\"barcode\"], linewidth=0, marker=\"s\", sizes=(3.3, 3.3), ax=ax, size=adata_top10_clones.obs[\"barcode\"], palette=sns.color_palette(\"tab10\"))\n",
    "sns.despine(top=True, right=True, left=True, bottom=True, offset=None, trim=False)\n",
    "plt.grid(False)\n",
    "plt.axis('equal')\n",
    "plt.axis('off')\n",
    "ax.invert_yaxis()\n",
    "ax.legend(\n",
    "    frameon=False,\n",
    "    loc='center left',\n",
    "    bbox_to_anchor=(1, 0.5),\n",
    "    markerscale=3\n",
    ")\n",
    "\n",
    "fig.savefig(\"/dawson_genomics/Projects/BGI_spatial/plots_paper/10_most_frequent_barcodes_m4_squares.pdf\", transparent=True, bbox_inches='tight')\n",
    "plt.show()"
   ]
  },
  {
   "cell_type": "markdown",
   "id": "866df2e3-39b1-498a-82c9-4a825fdc3e98",
   "metadata": {},
   "source": [
    "## Clustering"
   ]
  },
  {
   "cell_type": "markdown",
   "id": "7f6e0a2e-4f9b-4d68-8c7d-8ca8de463b69",
   "metadata": {},
   "source": [
    "Visualize distribution of gene and UMI counts that were used for filtering in `data_preprocessing_m4_paper.py`"
   ]
  },
  {
   "cell_type": "code",
   "execution_count": null,
   "id": "72ab3c40-1ada-453d-b895-6e405bd8ae05",
   "metadata": {
    "tags": []
   },
   "outputs": [],
   "source": [
    "sc.set_figure_params(dpi=100)"
   ]
  },
  {
   "cell_type": "code",
   "execution_count": null,
   "id": "f6427ea2-381a-4183-a503-8ac6af666ec5",
   "metadata": {
    "tags": []
   },
   "outputs": [],
   "source": [
    "fig, axs = plt.subplots(2, 2, figsize=(20, 5))\n",
    "adata.obs[\"total_counts\"].hist(bins=50, linewidth=0, ax=axs[0,0])\n",
    "adata.obs[\"total_counts\"].hist(range=(0, 2000), linewidth=0, bins=51, ax=axs[1,0])\n",
    "adata.obs[\"n_genes_by_counts\"].hist(bins=50, linewidth=0, ax=axs[0,1])\n",
    "adata.obs[\"n_genes_by_counts\"].hist(range=(0, 1000), linewidth=0, bins=51, ax=axs[1,1])\n",
    "\n",
    "plt.tight_layout()"
   ]
  },
  {
   "cell_type": "markdown",
   "id": "6f5a7e7c-edc1-4b72-89d2-d5df44936397",
   "metadata": {},
   "source": [
    "Loading filtered and clustered adata object. "
   ]
  },
  {
   "cell_type": "code",
   "execution_count": null,
   "id": "dd9629cc-3e2a-45da-919b-e3205a9b1c2e",
   "metadata": {},
   "outputs": [],
   "source": [
    "adata = sc.read(filename=f\"/dawson_genomics/Projects/BGI_spatial/plots_paper/input_data/mouse4_bin50_bc_clustered.h5ad\")"
   ]
  },
  {
   "cell_type": "markdown",
   "id": "a76a87cd-7491-46d5-9410-74ca7b0d2740",
   "metadata": {},
   "source": [
    "Plot UMI counts per bin."
   ]
  },
  {
   "cell_type": "code",
   "execution_count": null,
   "id": "ffaca8fc-456a-4730-b12c-2b63a1917ff3",
   "metadata": {
    "tags": []
   },
   "outputs": [],
   "source": [
    "from matplotlib.cm import get_cmap\n",
    "figsize = (7, 7)\n",
    "_, ax = plt.subplots(figsize=figsize)\n",
    "sns.scatterplot(x=adata.obs[\"x\"], y=adata.obs[\"y\"], hue=adata.obs[\"total_counts\"], linewidth=0, marker=\"s\", sizes=(3.3, 3.3), ax=ax, size=adata.obs[\"total_counts\"])\n",
    "sns.despine(top=True, right=True, left=True, bottom=True, offset=None, trim=False)\n",
    "plt.grid(False)\n",
    "plt.axis('equal')\n",
    "ax.invert_yaxis()\n",
    "plt.axis('off')\n",
    "plt.show()"
   ]
  },
  {
   "cell_type": "code",
   "execution_count": null,
   "id": "b01e1a1d-18f3-454e-b2f9-49a89e20be5d",
   "metadata": {
    "tags": []
   },
   "outputs": [],
   "source": [
    "sc.pl.pca_variance_ratio(adata, log=True, n_pcs=50)"
   ]
  },
  {
   "cell_type": "markdown",
   "id": "0099182f-7f19-4adf-8440-bac9dd2c50bc",
   "metadata": {},
   "source": [
    "Leiden clustering on UMAP at different resolutions"
   ]
  },
  {
   "cell_type": "code",
   "execution_count": null,
   "id": "45f2aa67-d40e-49b2-b050-f230c3193b26",
   "metadata": {
    "tags": []
   },
   "outputs": [],
   "source": [
    "sc.pl.umap(adata, color=[\"leiden_1\", \"leiden_0.7\", \"leiden_0.5\", \"leiden_0.2\"])"
   ]
  },
  {
   "cell_type": "markdown",
   "id": "43cef3bd-5bd4-41a6-b322-82c0623b4f4d",
   "metadata": {},
   "source": [
    "Leiden clustering on tissue section at different resolution"
   ]
  },
  {
   "cell_type": "code",
   "execution_count": null,
   "id": "a82e5dcf-3439-4692-8d92-523f04eec81f",
   "metadata": {
    "tags": []
   },
   "outputs": [],
   "source": [
    "from matplotlib.cm import get_cmap\n",
    "figsize = (7 * 4, 7)\n",
    "_, axs = plt.subplots(1, 4, figsize=figsize)\n",
    "for i, res in enumerate([\"leiden_1\", \"leiden_0.7\", \"leiden_0.5\", \"leiden_0.2\"]): \n",
    "    sns.scatterplot(x=adata.obs[\"x\"], y=adata.obs[\"y\"], hue=adata.obs[res], linewidth=0, marker=\"s\", sizes=(2.5, 2.5), ax=axs[i], size=adata.obs[res])\n",
    "    sns.despine(top=True, right=True, left=True, bottom=True, offset=None, trim=False, ax=axs[i])\n",
    "    axs[i].grid(False)\n",
    "    axs[i].axis('equal')\n",
    "    axs[i].axis('off')\n",
    "    axs[i].invert_yaxis()"
   ]
  },
  {
   "cell_type": "markdown",
   "id": "46220f74-953f-4e1d-8045-512434ff3339",
   "metadata": {},
   "source": [
    "Leiden clustering resolution 0.7 for paper."
   ]
  },
  {
   "cell_type": "code",
   "execution_count": null,
   "id": "61de67ba-ba5f-408f-b722-cff8f1d34560",
   "metadata": {
    "tags": []
   },
   "outputs": [],
   "source": [
    "from matplotlib.cm import get_cmap\n",
    "figsize = (7, 7)\n",
    "_, ax = plt.subplots(figsize=figsize)\n",
    "sns.scatterplot(x=adata.obs[\"x\"], y=adata.obs[\"y\"], hue=adata.obs[\"leiden_0.7\"], linewidth=0, marker=\"s\", sizes=(3.3, 3.3), ax=ax, size=adata.obs[\"leiden_0.7\"])\n",
    "sns.despine(top=True, right=True, left=True, bottom=True, offset=None, trim=False)\n",
    "plt.grid(False)\n",
    "plt.axis('equal')\n",
    "plt.axis('off')\n",
    "ax.invert_yaxis()\n",
    "ax.legend(\n",
    "    frameon=False,\n",
    "    loc='center left',\n",
    "    bbox_to_anchor=(1, 0.5),\n",
    "    markerscale=3\n",
    ")\n",
    "\n",
    "plt.savefig(\"/dawson_genomics/Projects/BGI_spatial/plots_paper/leiden_cluster_m4.pdf\", transparent=True, bbox_inches='tight')"
   ]
  },
  {
   "cell_type": "code",
   "execution_count": null,
   "id": "524f6e89-c3e2-4edf-b0a7-201bae49f9bc",
   "metadata": {
    "tags": []
   },
   "outputs": [],
   "source": [
    "from matplotlib.cm import get_cmap\n",
    "sc.set_figure_params(vector_friendly = True, transparent=True)\n",
    "figsize = (7, 7)\n",
    "fig, ax = plt.subplots(figsize=figsize)\n",
    "sc.pl.umap(adata, color=[\"leiden_0.7\"], ax=ax, legend_loc='None', frameon=False, size=15, title=\"\")\n",
    "ax.set_aspect('equal')\n",
    "# fig.savefig(\"/dawson_genomics/Projects/BGI_spatial/plots_paper/leiden_cluster_umap_m4.pdf\", transparent=True, bbox_inches='tight')"
   ]
  },
  {
   "cell_type": "markdown",
   "id": "1267550a-ac7c-4c91-93ae-6d90afa6a9e0",
   "metadata": {},
   "source": [
    "Seems like cluster 3 is defined by low total counts (bins on edge of tissue section and on edges of holes). Data is not normalized by counts per bin since this can be biologically relevant in the spacial context. "
   ]
  },
  {
   "cell_type": "code",
   "execution_count": null,
   "id": "9a643136-c05f-4fc8-9ec1-aeae53f6a490",
   "metadata": {
    "tags": []
   },
   "outputs": [],
   "source": [
    "sns.violinplot(adata.obs, x=\"leiden_0.7\", y=\"total_counts\")\n",
    "plt.show()"
   ]
  },
  {
   "cell_type": "markdown",
   "id": "7ae04a91-64da-49b7-93e9-da329424ffdb",
   "metadata": {},
   "source": [
    "Distribution of top10 clones across UMAP."
   ]
  },
  {
   "cell_type": "code",
   "execution_count": null,
   "id": "1d787f7f-33fd-4d25-a8ea-2a4da0ed462c",
   "metadata": {
    "tags": []
   },
   "outputs": [],
   "source": [
    "from matplotlib.cm import get_cmap\n",
    "sc.set_figure_params(vector_friendly = True, transparent=True)\n",
    "figsize = (7, 7)\n",
    "fig, ax = plt.subplots(figsize=figsize)\n",
    "sc.pl.umap(adata_top10_clones, color=[\"barcode\"], ax=ax, legend_loc='None', frameon=False, size=15, title=\"\")\n",
    "ax.set_aspect('equal')\n",
    "# fig.savefig(\"/dawson_genomics/Projects/BGI_spatial/plots_paper/leiden_cluster_umap_m4.pdf\", transparent=True, bbox_inches='tight')"
   ]
  },
  {
   "cell_type": "markdown",
   "id": "729cb1ea-bf32-48de-bea7-6f4379b6fa00",
   "metadata": {},
   "source": [
    "## Cluster marker genes"
   ]
  },
  {
   "cell_type": "code",
   "execution_count": null,
   "id": "6ae98e09-f2b5-4787-9a1e-e466aee94099",
   "metadata": {
    "tags": []
   },
   "outputs": [],
   "source": [
    "sc.pl.rank_genes_groups(adata, n_genes=10, sharey=False, fontsize=14)"
   ]
  },
  {
   "cell_type": "code",
   "execution_count": null,
   "id": "3f9bb4c8-6011-4c9b-88f1-e2ca5de3dcba",
   "metadata": {
    "tags": []
   },
   "outputs": [],
   "source": [
    "marker_genes = [\"Cd74\", \"Hba-a1\", \"Elane\", \"Tagln\", \"Pf4\", \"Marco\"]"
   ]
  },
  {
   "cell_type": "code",
   "execution_count": null,
   "id": "2f30d840-8761-45ff-8147-e24b3584f9aa",
   "metadata": {
    "tags": []
   },
   "outputs": [],
   "source": [
    "fig = sc.pl.dotplot(adata, marker_genes, groupby='leiden_0.7', use_raw=True, return_fig=True)\n",
    "fig.savefig(\"/dawson_genomics/Projects/BGI_spatial/plots_paper/marker_gene_dotplot_m4.pdf\", transparent=True, bbox_inches='tight')"
   ]
  },
  {
   "cell_type": "code",
   "execution_count": null,
   "id": "c11a9c37-e166-48d6-a482-a3f2153bb5b5",
   "metadata": {
    "tags": []
   },
   "outputs": [],
   "source": [
    "fig = sc.pl.dotplot(adata, marker_genes, groupby='leiden_0.7', use_raw=False, return_fig=True)\n",
    "fig.savefig(\"/dawson_genomics/Projects/BGI_spatial/plots_paper/marker_gene_dotplot_m4_scaled.pdf\", transparent=True, bbox_inches='tight')\n",
    "fig.show()"
   ]
  },
  {
   "cell_type": "code",
   "execution_count": null,
   "id": "12754dfe-234b-4e7a-992b-b54077898d8c",
   "metadata": {
    "tags": []
   },
   "outputs": [],
   "source": [
    "adata_raw = adata.raw.to_adata()"
   ]
  },
  {
   "cell_type": "code",
   "execution_count": null,
   "id": "8e72ae4f-7a21-4190-9748-5b715dbe9bf6",
   "metadata": {
    "tags": []
   },
   "outputs": [],
   "source": [
    "cmap = sns.color_palette(\"viridis\", as_cmap=True)\n",
    "figsize = (7 * 6, 7)\n",
    "_, axs = plt.subplots(1, 6, figsize=figsize)\n",
    "for i, gene in enumerate([\"Hba-a1\", \"Marco\", \"Cd74\", \"Tagln\", \"Pf4\", \"Elane\"]): \n",
    "    sns.scatterplot(x=adata.obs[\"x\"], y=adata.obs[\"y\"], hue=adata_raw[:, gene].X.A.flatten(), linewidth=0, marker=\"s\", sizes=(2.5, 2.5), ax=axs[i], size=adata_raw[:, gene].X.A.flatten(), palette=cmap)\n",
    "    axs[i].set_title(gene)\n",
    "    sns.despine(top=True, right=True, left=True, bottom=True, offset=None, trim=False, ax=axs[i])\n",
    "    axs[i].grid(False)\n",
    "    axs[i].axis('equal')\n",
    "    axs[i].axis('off')\n",
    "    axs[i].invert_yaxis()\n",
    "    norm = plt.Normalize(adata_raw[:, gene].X.A.flatten().min(), adata_raw[:, gene].X.A.flatten().max())\n",
    "    sm = plt.cm.ScalarMappable(cmap=\"viridis\", norm=norm)\n",
    "    axs[i].get_legend().remove()\n",
    "    axs[i].figure.colorbar(sm, ax=axs[i], fraction=0.03, pad=0.04, label=\"log counts\")\n",
    "plt.subplots_adjust(top=0.5)\n",
    "\n",
    "plt.savefig(\"/dawson_genomics/Projects/BGI_spatial/plots_paper/marker_gene_spatial_m4.pdf\", transparent=True, bbox_inches='tight')"
   ]
  }
 ],
 "metadata": {
  "kernelspec": {
   "display_name": "BGI_spatial",
   "language": "python",
   "name": "bgi_spatial"
  },
  "language_info": {
   "codemirror_mode": {
    "name": "ipython",
    "version": 3
   },
   "file_extension": ".py",
   "mimetype": "text/x-python",
   "name": "python",
   "nbconvert_exporter": "python",
   "pygments_lexer": "ipython3",
   "version": "3.8.16"
  }
 },
 "nbformat": 4,
 "nbformat_minor": 5
}
